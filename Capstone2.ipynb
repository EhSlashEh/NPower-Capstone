{
 "cells": [
  {
   "cell_type": "markdown",
   "metadata": {},
   "source": [
    "# Code Workshop"
   ]
  },
  {
   "cell_type": "markdown",
   "metadata": {},
   "source": [
    "# Setup and Import Libraries\n",
    "\n",
    "First, let's import all of the libraries we'll be using for this notebook."
   ]
  },
  {
   "cell_type": "code",
   "execution_count": null,
   "metadata": {},
   "outputs": [],
   "source": [
    "# If running on Google Collab, run this cell to install the required packages\n",
    "%pip install pywaffle wordcloud folium"
   ]
  },
  {
   "cell_type": "code",
   "execution_count": null,
   "metadata": {},
   "outputs": [],
   "source": [
    "import numpy as np\n",
    "import pandas as pd\n",
    "%matplotlib inline\n",
    "import matplotlib as mpl\n",
    "import matplotlib.pyplot as plt\n",
    "import seaborn as sns\n",
    "from pywaffle import Waffle\n",
    "from wordcloud import WordCloud, STOPWORDS\n",
    "import urllib\n",
    "import folium"
   ]
  },
  {
   "cell_type": "markdown",
   "metadata": {},
   "source": [
    "# Optional: Theme Matplotlib\n",
    "\n",
    "You can theme all of your matplotlib plots using the below code. Let's change it to `Solarize_Light2`!"
   ]
  },
  {
   "cell_type": "code",
   "execution_count": null,
   "metadata": {},
   "outputs": [],
   "source": [
    "mpl.style.use(['Solarize_Light2'])"
   ]
  },
  {
   "cell_type": "markdown",
   "metadata": {},
   "source": [
    "# Prepare Data\n",
    "\n",
    "For most of this, we'll be using the Immigration to Canada from 1980-2013 dataset from the labs in coursera. "
   ]
  },
  {
   "cell_type": "code",
   "execution_count": null,
   "metadata": {},
   "outputs": [],
   "source": [
    "# Read the data into a dataframe\n",
    "df = pd.read_csv('https://cf-courses-data.s3.us.cloud-object-storage.appdomain.cloud/IBMDeveloperSkillsNetwork-DV0101EN-SkillsNetwork/Data%20Files/Canada.csv')\n",
    "df = df.set_index('Country') # Set the 'Country' column as the index of the dataframe\n",
    "\n",
    "# Let's make a list of years to use throughout this notebook.\n",
    "years = list(map(str, range(1980, 2014)))\n",
    "\n",
    "# Let's set a constant of (11,7) to be our figure size. This way, everything is consistent and if we want to change the size of all the figures, we can do it here.\n",
    "fsize = (11, 7)"
   ]
  },
  {
   "cell_type": "markdown",
   "metadata": {},
   "source": [
    "# Line Plot\n",
    "\n",
    "Let's plot a line plot of the immigration to Canada from Afghanistan."
   ]
  },
  {
   "cell_type": "code",
   "execution_count": null,
   "metadata": {},
   "outputs": [],
   "source": [
    "afghanistan = df.loc['Afghanistan', years] # Get the immigration data for Afghanistan\n",
    "# Create the plot\n",
    "afghanistan.plot(kind='line', \n",
    "                 figsize=fsize # Set the size of the plot\n",
    "                 ) \n",
    "plt.title('Immigration from Afghanistan to Canada 1980-2013') # Title the plot\n",
    "plt.xlabel('Year') # Label the x-axis\n",
    "plt.ylabel('Immigrants') # Label the y-axis\n",
    "# NOTE: You can also do this all as one line of code, by setting arguments in the plot() function. For example:\n",
    "# afghanistan.plot(kind='line', title='Immigration from Afghanistan to Canada 1980-2013', xlabel='Year', ylabel='Immigrants')\n",
    "\n",
    "plt.show() # Show the plot. Don't forget this part!"
   ]
  },
  {
   "cell_type": "markdown",
   "metadata": {},
   "source": [
    "# Area Plot\n",
    "\n",
    "Let's plot the top 5 countries in an area plot."
   ]
  },
  {
   "cell_type": "code",
   "execution_count": null,
   "metadata": {},
   "outputs": [],
   "source": [
    " # Sort the dataframe by the 'Total' column in descending order, then get the top 5 entries\n",
    "df_top5 = df.sort_values(['Total'], ascending=False, axis=0).head()\n",
    "\n",
    "# transpose the dataframe (Switch the country names to be the columns and the years to be the rows)\n",
    "df_top5 = df_top5[years].transpose()\n",
    "\n",
    "# let's change the index values of df_top5 to type integer for plotting\n",
    "df_top5.index = df_top5.index.map(int)\n",
    "\n",
    "df_top5.plot(kind='area', figsize=fsize)\n",
    "plt.title('Immigration Trend of Top 5 Countries')\n",
    "plt.ylabel('Number of Immigrants')\n",
    "plt.xlabel('Years')\n",
    "plt.show()"
   ]
  },
  {
   "cell_type": "markdown",
   "metadata": {},
   "source": [
    "You can also plot the data as not stacked, which will plot each country on a separate line."
   ]
  },
  {
   "cell_type": "code",
   "execution_count": null,
   "metadata": {},
   "outputs": [],
   "source": [
    "df_top5.plot(kind='area',\n",
    "             stacked=False,\n",
    "             alpha=0.25, # Changes the transparency of the plot\n",
    "             figsize=fsize)\n",
    "\n",
    "plt.title('Immigration Trend of Top 5 Countries')\n",
    "plt.ylabel('Number of Immigrants')\n",
    "plt.xlabel('Years')\n",
    "\n",
    "plt.show()"
   ]
  },
  {
   "cell_type": "markdown",
   "metadata": {},
   "source": [
    "# Histogram\n",
    "\n",
    "Let's plot a histogram of the immigration from Denmark, Norway and Sweden for 1980-2013."
   ]
  },
  {
   "cell_type": "code",
   "execution_count": null,
   "metadata": {},
   "outputs": [],
   "source": [
    "df_dns = df.loc[['Denmark', 'Norway', 'Sweden'], years].transpose() # Pull the data and then transpose it\n",
    "\n",
    "# Let's get the bin edges (the range of values that will be in each bin) for the xticks.\n",
    "# For this example, we'll using 15 bins.\n",
    "count, bin_edges = np.histogram(df_dns, 15)\n",
    "\n",
    "df_dns.plot(kind='hist', \n",
    "            bins=15, # You can change the number of bins to change the granularity of the plot. Default is 10 bins. (Make sure this matches the above line!)\n",
    "            figsize=fsize,\n",
    "            xticks=bin_edges # Set the x ticks to be the bin edges\n",
    "            )\n",
    "\n",
    "plt.title('Histogram of Immigration from Denmark, Norway, and Sweden from 1980 - 2013')\n",
    "plt.ylabel('Number of Years')\n",
    "plt.xlabel('Number of Immigrants')\n",
    "\n",
    "plt.show()"
   ]
  },
  {
   "cell_type": "markdown",
   "metadata": {},
   "source": [
    "# Bar Charts and Chart Annotation\n",
    "\n",
    "Let's make a bar chart of Iceland's immigration from 1980-2013 and annotate it to indicate the Icelandic financial crisis of 2008-2011."
   ]
  },
  {
   "cell_type": "code",
   "execution_count": null,
   "metadata": {},
   "outputs": [],
   "source": [
    "df_iceland = df.loc['Iceland', years] # Get the data for Iceland\n",
    "\n",
    "df_iceland.plot(kind='bar',\n",
    "                figsize=fsize) # Bar charts are pretty dang easy to plot\n",
    "\n",
    "plt.xlabel('Year') # add to x-label to the plot\n",
    "plt.ylabel('Number of immigrants') # add y-label to the plot\n",
    "plt.title('Icelandic immigrants to Canada from 1980 to 2013') # add title to the plot\n",
    "\n",
    "# You can annotate charts using the plt.annotate() function like so:\n",
    "\n",
    "# Annotate arrow\n",
    "plt.annotate('',  # s: str. will leave it blank for no text\n",
    "             xy=(32, 70),  # place head of the arrow at point (year 2012 , pop 70)\n",
    "             xytext=(28, 20),  # place base of the arrow at point (year 2008 , pop 20)\n",
    "             xycoords='data',  # will use the coordinate system of the object being annotated\n",
    "             arrowprops=dict(arrowstyle='->', connectionstyle='arc3', color='blue', lw=2)\n",
    "             )\n",
    "\n",
    "# Annotate Text\n",
    "plt.annotate('2008 - 2011 Financial Crisis',  # text to display\n",
    "             xy=(28, 30),  # start the text at at point (year 2008 , pop 30)\n",
    "             rotation=72.5,  # based on trial and error to match the arrow\n",
    "             va='bottom',  # want the text to be vertically 'bottom' aligned\n",
    "             ha='left',  # want the text to be horizontally 'left' algned.\n",
    "             )\n",
    "\n",
    "plt.show()"
   ]
  },
  {
   "cell_type": "markdown",
   "metadata": {},
   "source": [
    "You can also plot a bar chart horizontally. Let's chart the top 15 countries immigrating to canada."
   ]
  },
  {
   "cell_type": "code",
   "execution_count": null,
   "metadata": {},
   "outputs": [],
   "source": [
    "# Let's get the top 15 values for \"Total\"\n",
    "df_top15 = df.sort_values(['Total'], ascending=False, axis=0)['Total'].head(15)\n",
    "\n",
    "df_top15.plot(kind='barh', # Use kind=barh to plot a horizontal bar. \n",
    "              figsize=fsize)\n",
    "\n",
    "plt.xlabel('Number of Immigrants')\n",
    "plt.title('Top 15 Countries Contributing to the Immigration to Canada between 1980 - 2013')\n",
    "\n",
    "# Now, let's annotate the labels on the bars. We can do this using the plt.annotate() function.\n",
    "for index, value in enumerate(df_top15): \n",
    "    label = format(int(value), ',') # format int with commas\n",
    "    # place text at the end of bar (subtracting 47000 from x, and 0.1 from y to make it fit within the bar)\n",
    "    plt.annotate(label, xy=(value - 47000, index - 0.10), color='white', fontsize=10)\n",
    "\n",
    "plt.show()"
   ]
  },
  {
   "cell_type": "markdown",
   "metadata": {},
   "source": [
    "# Pie Chart\n",
    "\n",
    "Let's plot the proportions of immigrants to Canada from 1980-2013 by continent in a pie chart."
   ]
  },
  {
   "cell_type": "code",
   "execution_count": null,
   "metadata": {},
   "outputs": [],
   "source": [
    "# group countries by continents and apply sum() function \n",
    "df_continents = df.groupby('Continent').sum()\n",
    "\n",
    "# We can offset some of the data in the pie chart to make it clearer\n",
    "explode_list = [0.1, 0, 0, 0, 0.1, 0.1] # ratio for each continent with which to offset each wedge.\n",
    "\n",
    "df_continents['Total'].plot(kind='pie',\n",
    "                            figsize=fsize,\n",
    "                            autopct='%1.1f%%', # add in percentages\n",
    "                            startangle=90, # start angle 90°\n",
    "                            labels=None, # turn off labels on pie chart\n",
    "                            pctdistance=1.12, # the ratio between the center of each pie slice and the start of the text generated by autopct \n",
    "                            explode=explode_list # 'explode' lowest 3 continents\n",
    "                            )\n",
    "\n",
    "plt.title('Immigration to Canada by Continent [1980 - 2013]')\n",
    "plt.axis('equal') # Sets the pie chart to look like a circle.\n",
    "plt.legend(labels=df_continents.index, loc='upper left') \n",
    "\n",
    "plt.show()"
   ]
  },
  {
   "cell_type": "markdown",
   "metadata": {},
   "source": [
    "# Box Plot\n",
    "\n",
    "Let's plot the box plot for the Japanese immigrants between 1980 - 2013."
   ]
  },
  {
   "cell_type": "code",
   "execution_count": null,
   "metadata": {},
   "outputs": [],
   "source": [
    "# Get the data for Japan from 1980-2013\n",
    "df_japan = df.loc[['Japan'], years].transpose()\n",
    "\n",
    "df_japan.plot(kind='box', figsize=fsize)\n",
    "\n",
    "plt.title('Box plot of Japanese Immigrants from 1980 - 2013')\n",
    "plt.ylabel('Number of Immigrants')\n",
    "\n",
    "plt.show()"
   ]
  },
  {
   "cell_type": "markdown",
   "metadata": {},
   "source": [
    "# Scatter Plot\n",
    "\n",
    "Let's plot a scatter plot for all immigration to Canada from 1980-2013."
   ]
  },
  {
   "cell_type": "code",
   "execution_count": null,
   "metadata": {},
   "outputs": [],
   "source": [
    "# Get the data. We can use the sum() method to get the total population per year\n",
    "df_tot = pd.DataFrame(df[years].sum())\n",
    "\n",
    "# change the years to type int (makes the labels easier to read)\n",
    "df_tot.index = map(int, df_tot.index)\n",
    "df_tot = df_tot.reset_index()\n",
    "\n",
    "# rename columns\n",
    "df_tot.columns = ['year', 'total']\n",
    "\n",
    "df_tot.plot(kind='scatter', x='year', y='total', figsize=fsize)\n",
    "\n",
    "plt.title('Total Immigration to Canada from 1980 - 2013')\n",
    "plt.xlabel('Year')\n",
    "plt.ylabel('Number of Immigrants')\n",
    "\n",
    "plt.show()"
   ]
  },
  {
   "cell_type": "markdown",
   "metadata": {},
   "source": [
    "# Bubble Plot\n",
    "\n",
    "Let's create a bubble plot for the population of Brazil from 1980-2013."
   ]
  },
  {
   "cell_type": "code",
   "execution_count": null,
   "metadata": {},
   "outputs": [],
   "source": [
    "# Step 1: Prepare the data\n",
    "df_t = df[years].transpose() # Transpose the dataframe to make the years the index\n",
    "df_t.index = map(int, df_t.index) # cast the Years (the index) to type int\n",
    "df_t.index.name = 'Year' # name the index 'Year' to make it easier to reference\n",
    "df_t = df_t.reset_index() # reset index to bring the Year in as a column\n",
    "\n",
    "# Step 2: Normalize the data we need, this will help with the size of the bubbles\n",
    "norm_brazil = (df_t['Brazil'] - df_t['Brazil'].min()) / (df_t['Brazil'].max() - df_t['Brazil'].min())\n",
    "\n",
    "df_t.plot(kind='scatter',\n",
    "          x='Year',\n",
    "          y='Brazil',\n",
    "          figsize=fsize,\n",
    "          alpha=0.5,  # transparency\n",
    "          s=norm_brazil * 2000 + 10,  # pass in weights \n",
    "          xlim=(1975, 2015)\n",
    "          )\n",
    "\n",
    "plt.ylabel('Number of Immigrants')\n",
    "plt.title('Immigration from Brazil from 1980 to 2013')\n",
    "plt.legend(['Brazil'], loc='upper left', fontsize='x-large')\n",
    "\n",
    "plt.show()"
   ]
  },
  {
   "cell_type": "markdown",
   "metadata": {},
   "source": [
    "# Waffle Chart\n",
    "\n",
    "Let's create a waffle chart showing the proportion of immigration from Denmark, Norway and Sweden."
   ]
  },
  {
   "cell_type": "code",
   "execution_count": null,
   "metadata": {},
   "outputs": [],
   "source": [
    "# Create a new dataframe for these three countries \n",
    "df_dsn = df.loc[['Denmark', 'Norway', 'Sweden'], :]\n",
    "\n",
    "plt.figure(FigureClass = Waffle,\n",
    "            rows = 20, columns = 30, # pass the number of rows and columns for the waffle \n",
    "            values = df_dsn['Total'], # pass the data to be used for display\n",
    "            legend = {'labels': [f\"{k} ({v})\" for k, v in zip(df_dsn.index.values,df_dsn.Total)],\n",
    "                       'loc': 'lower left', 'bbox_to_anchor':(0,-0.1),'ncol': 3},\n",
    "            figsize = fsize\n",
    "           )    \n",
    "plt.title(\"Immigration from Denmark, Norway and Sweden 1980-2013\")\n",
    "plt.show()"
   ]
  },
  {
   "cell_type": "markdown",
   "metadata": {},
   "source": [
    "# Word Cloud\n",
    "\n",
    "Let's make a word cloud of all the text from the classic novel \"Pride and Prejudice!\""
   ]
  },
  {
   "cell_type": "code",
   "execution_count": null,
   "metadata": {},
   "outputs": [],
   "source": [
    "# First, let's download the e-book from Project Gutenberg and store it in a variable.\n",
    "pride_novel = urllib.request.urlopen('https://www.gutenberg.org/cache/epub/1342/pg1342.txt').read().decode(\"utf-8\")"
   ]
  },
  {
   "cell_type": "code",
   "execution_count": null,
   "metadata": {},
   "outputs": [],
   "source": [
    "# Set the stopwords up! We'll use the default set, and add \"said\" to it.\n",
    "stopwords = set(STOPWORDS)\n",
    "stopwords.add(\"said\")\n",
    "# Create the WordCloud object\n",
    "pride_wc = WordCloud(width=1100,  # PROTIP: You can set the width and height of the WordCloud (in pixels) using those arguments! \n",
    "                     height=700, # This means it won't get as pixelated like it did in coursera if you make the figure bigger.\n",
    "                     stopwords=stopwords # If you're using a custom list of stop words, you have to pass this argument in.\n",
    "                                         # Strangely enough, Coursera forgot to do this.\n",
    "                     )\n",
    "# Generate the Word Cloud\n",
    "pride_wc.generate(pride_novel)\n",
    "\n",
    "# Display the Word Cloud\n",
    "plt.figure(figsize=fsize)\n",
    "plt.imshow(pride_wc, interpolation='bilinear')\n",
    "plt.axis('off')\n",
    "plt.show()"
   ]
  },
  {
   "cell_type": "markdown",
   "metadata": {},
   "source": [
    "# Regression Plot\n",
    "\n",
    "With seaborn, you can plot regression plots easily. Let's do one using the data `df_tot` from the scatter plot we did earlier, and customize it a bit for good measure."
   ]
  },
  {
   "cell_type": "code",
   "execution_count": null,
   "metadata": {},
   "outputs": [],
   "source": [
    "plt.figure(figsize=fsize)\n",
    "\n",
    "ax = sns.regplot(x='year',\n",
    "                 y='total',     \n",
    "                 data=df_tot, \n",
    "                 color='red', \n",
    "                 marker='+', # Set the marker. This has a bunch of options, you can check them out at https://seaborn.pydata.org/tutorial/properties.html#marker\n",
    "                 scatter_kws={'s': 200} # This just adjusts the size of the markers.\n",
    "                )\n",
    "\n",
    "ax.set(xlabel='Year', ylabel='Total Immigration')\n",
    "ax.set_title('Total Immigration to Canada from 1980 - 2013')\n",
    "\n",
    "plt.show()"
   ]
  },
  {
   "cell_type": "markdown",
   "metadata": {},
   "source": [
    "# Geospatial Maps"
   ]
  },
  {
   "cell_type": "code",
   "execution_count": null,
   "metadata": {},
   "outputs": [],
   "source": [
    "world_map = folium.Map(location=[56.130, -106.35], # Where you want the map centered on\n",
    "                       zoom_start=4, # The default zoom level of the map\n",
    "                       tiles='OpenStreetMap' # The theme of the map. Can also be \"Cartodb Positron\" or \"Cartodb dark_matter\"\n",
    "                       )\n",
    "\n",
    "world_map"
   ]
  },
  {
   "cell_type": "markdown",
   "metadata": {},
   "source": [
    "You can also add markers to a map as well:"
   ]
  },
  {
   "cell_type": "code",
   "execution_count": null,
   "metadata": {},
   "outputs": [],
   "source": [
    "# Get the data needed for markers\n",
    "df_incidents = pd.read_csv('https://cf-courses-data.s3.us.cloud-object-storage.appdomain.cloud/IBMDeveloperSkillsNetwork-DV0101EN-SkillsNetwork/Data%20Files/Police_Department_Incidents_-_Previous_Year__2016_.csv')\n",
    "df_incidents = df_incidents.iloc[0:100, :] # Only take the first 100 crimes, otherwise this will take forever\n",
    "\n",
    "sanfran_map = folium.Map(location=[37.77, -122.42], zoom_start=12) # Create the map centered around San Francisco\n",
    "\n",
    "# instantiate a feature group for the incidents in the dataframe\n",
    "incidents = folium.map.FeatureGroup()\n",
    "\n",
    "# loop through the 100 crimes and add each to the incidents feature group\n",
    "for lat, lng, in zip(df_incidents.Y, df_incidents.X):\n",
    "    incidents.add_child(\n",
    "        folium.vector_layers.CircleMarker(\n",
    "            [lat, lng],\n",
    "            radius=5, # define how big you want the circle markers to be\n",
    "            color='yellow', # Define the color of the circle markers\n",
    "            fill=True, # Whether you want the circle markers to be filled with color\n",
    "            fill_color='blue', # The fill color of the circle markers\n",
    "            fill_opacity=0.6 # The opacity of the circle markers\n",
    "        )\n",
    "    )\n",
    "\n",
    "# add incidents to map\n",
    "sanfran_map.add_child(incidents)\n"
   ]
  },
  {
   "cell_type": "markdown",
   "metadata": {},
   "source": [
    "# Choropleth Maps\n",
    "\n",
    "Let's generate a choropleth map showing the proportion of immigrants to Canada worldwide."
   ]
  },
  {
   "cell_type": "code",
   "execution_count": null,
   "metadata": {},
   "outputs": [],
   "source": [
    "# Download the geojson file and store it in a variable\n",
    "world_geo = urllib.request.urlopen(r'https://cf-courses-data.s3.us.cloud-object-storage.appdomain.cloud/IBMDeveloperSkillsNetwork-DV0101EN-SkillsNetwork/Data%20Files/world_countries.json').read().decode(\"utf-8\") # geojson file\n",
    "\n",
    "# Reset the index of the original dataframe and store it in a new one since \"Country\" needs to be a column, not the index\n",
    "df_world = df.reset_index()\n",
    "\n",
    "world_map = folium.Map(location=[0, 0], zoom_start=2)\n",
    "# generate choropleth map using the total immigration of each country to Canada from 1980 to 2013\n",
    "folium.Choropleth(\n",
    "    geo_data=world_geo,\n",
    "    data=df_world,\n",
    "    columns=['Country', 'Total'],\n",
    "    key_on='feature.properties.name',\n",
    "    fill_color='YlOrRd', \n",
    "    fill_opacity=0.7, \n",
    "    line_opacity=0.2,\n",
    "    legend_name='Immigration to Canada',\n",
    "    reset=True\n",
    ").add_to(world_map)\n",
    "\n",
    "# display map\n",
    "world_map"
   ]
  },
  {
   "cell_type": "markdown",
   "metadata": {},
   "source": [
    "Folium is a very complex and powerful tool. For more uses, refer to the Generating Maps in Python lab in Module 4 of coursera."
   ]
  },
  {
   "cell_type": "markdown",
   "metadata": {},
   "source": [
    "# Notes\n",
    "\n",
    "- When plotting a dataframe, you can also use df.plot.*type* to plot it instead of using `kind='type'`. For example, `df.plot.line()`"
   ]
  }
 ],
 "metadata": {
  "kernelspec": {
   "display_name": "Python 3",
   "language": "python",
   "name": "python3"
  },
  "language_info": {
   "codemirror_mode": {
    "name": "ipython",
    "version": 3
   },
   "file_extension": ".py",
   "mimetype": "text/x-python",
   "name": "python",
   "nbconvert_exporter": "python",
   "pygments_lexer": "ipython3",
   "version": "3.13.2"
  }
 },
 "nbformat": 4,
 "nbformat_minor": 2
}
